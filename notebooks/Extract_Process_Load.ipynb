{
 "cells": [
  {
   "cell_type": "markdown",
   "metadata": {},
   "source": [
    "#### 10 Academy: Artificial Intelligence Mastery\n",
    "##### Ethiopian Medical Business:  Building a Data Warehouse  \n",
    "Ethel.C"
   ]
  },
  {
   "cell_type": "markdown",
   "metadata": {},
   "source": [
    "#### Data scraping and collection pipeline\n"
   ]
  },
  {
   "cell_type": "code",
   "execution_count": 1,
   "metadata": {},
   "outputs": [],
   "source": [
    "import sys\n",
    "\n",
    "# Add the scripts and src directories to the Python path\n",
    "scripts_dir = r'E:\\DS+ML\\AIM3\\Week-7\\Week-7.Ethiopian-medical-business-Data-Warehouse\\scripts'\n",
    "src_dir = r'E:\\DS+ML\\AIM3\\Week-7\\Week-7.Ethiopian-medical-business-Data-Warehouse\\src'\n",
    "\n",
    "# Update the file paths\n",
    "scraped_file = r\"E:\\DS+ML\\AIM3\\Week-7\\Week-7.Ethiopian-medical-business-Data-Warehouse\\data\\all_channels_data.csv\"\n",
    "cleaned_file = r\"E:\\DS+ML\\AIM3\\Week-7\\Week-7.Ethiopian-medical-business-Data-Warehouse\\data\\cleaned_data.csv\"\n",
    "\n",
    "# Add directories to Python path if they are not already included\n",
    "if scripts_dir not in sys.path:\n",
    "    sys.path.append(scripts_dir)\n",
    "if src_dir not in sys.path:\n",
    "    sys.path.append(src_dir)\n"
   ]
  },
  {
   "cell_type": "code",
   "execution_count": 2,
   "metadata": {},
   "outputs": [],
   "source": [
    "from extract_transform import extract_data, transform_data, save_cleaned_data\n",
    "from load_postgresql import create_table, load_to_postgresql"
   ]
  },
  {
   "cell_type": "code",
   "execution_count": 3,
   "metadata": {},
   "outputs": [
    {
     "name": "stdout",
     "output_type": "stream",
     "text": [
      "✅ Data extracted from 'E:\\DS+ML\\AIM3\\Week-7\\Week-7.Ethiopian-medical-business-Data-Warehouse\\data\\all_channels_data.csv' successfully.\n"
     ]
    },
    {
     "data": {
      "text/html": [
       "<div>\n",
       "<style scoped>\n",
       "    .dataframe tbody tr th:only-of-type {\n",
       "        vertical-align: middle;\n",
       "    }\n",
       "\n",
       "    .dataframe tbody tr th {\n",
       "        vertical-align: top;\n",
       "    }\n",
       "\n",
       "    .dataframe thead th {\n",
       "        text-align: right;\n",
       "    }\n",
       "</style>\n",
       "<table border=\"1\" class=\"dataframe\">\n",
       "  <thead>\n",
       "    <tr style=\"text-align: right;\">\n",
       "      <th></th>\n",
       "      <th>id</th>\n",
       "      <th>text</th>\n",
       "      <th>youtube_links</th>\n",
       "      <th>channel</th>\n",
       "      <th>date</th>\n",
       "      <th>image_path</th>\n",
       "    </tr>\n",
       "  </thead>\n",
       "  <tbody>\n",
       "    <tr>\n",
       "      <th>0</th>\n",
       "      <td>15208</td>\n",
       "      <td>NEUROPRO CARE \\nPrice 5500 birr \\nTelegram @Lo...</td>\n",
       "      <td>[]</td>\n",
       "      <td>lobelia4cosmetics</td>\n",
       "      <td>2025-01-31 12:40:44</td>\n",
       "      <td>15208.jpg</td>\n",
       "    </tr>\n",
       "    <tr>\n",
       "      <th>1</th>\n",
       "      <td>864</td>\n",
       "      <td>https://youtu.be/5DBoEm-8kmA?si=LDLuEecNfULJVD...</td>\n",
       "      <td>[('https://', '', 'youtu.be'), ('https://', ''...</td>\n",
       "      <td>DoctorsET</td>\n",
       "      <td>2023-12-18 17:04:02</td>\n",
       "      <td>864.jpg</td>\n",
       "    </tr>\n",
       "    <tr>\n",
       "      <th>2</th>\n",
       "      <td>1247</td>\n",
       "      <td>NaN</td>\n",
       "      <td>[]</td>\n",
       "      <td>yetenaweg</td>\n",
       "      <td>2025-01-22 09:50:47</td>\n",
       "      <td>1247.jpg</td>\n",
       "    </tr>\n",
       "    <tr>\n",
       "      <th>3</th>\n",
       "      <td>2607</td>\n",
       "      <td>#**Adult_ECHO_Training****@****#ADISS_ABABA_By...</td>\n",
       "      <td>[]</td>\n",
       "      <td>EAHCI</td>\n",
       "      <td>2025-01-31 13:45:58</td>\n",
       "      <td>2607.jpg</td>\n",
       "    </tr>\n",
       "    <tr>\n",
       "      <th>4</th>\n",
       "      <td>1246</td>\n",
       "      <td>NaN</td>\n",
       "      <td>[]</td>\n",
       "      <td>yetenaweg</td>\n",
       "      <td>2025-01-22 09:50:46</td>\n",
       "      <td>1246.jpg</td>\n",
       "    </tr>\n",
       "  </tbody>\n",
       "</table>\n",
       "</div>"
      ],
      "text/plain": [
       "      id                                               text  \\\n",
       "0  15208  NEUROPRO CARE \\nPrice 5500 birr \\nTelegram @Lo...   \n",
       "1    864  https://youtu.be/5DBoEm-8kmA?si=LDLuEecNfULJVD...   \n",
       "2   1247                                                NaN   \n",
       "3   2607  #**Adult_ECHO_Training****@****#ADISS_ABABA_By...   \n",
       "4   1246                                                NaN   \n",
       "\n",
       "                                       youtube_links            channel  \\\n",
       "0                                                 []  lobelia4cosmetics   \n",
       "1  [('https://', '', 'youtu.be'), ('https://', ''...          DoctorsET   \n",
       "2                                                 []          yetenaweg   \n",
       "3                                                 []              EAHCI   \n",
       "4                                                 []          yetenaweg   \n",
       "\n",
       "                  date image_path  \n",
       "0  2025-01-31 12:40:44  15208.jpg  \n",
       "1  2023-12-18 17:04:02    864.jpg  \n",
       "2  2025-01-22 09:50:47   1247.jpg  \n",
       "3  2025-01-31 13:45:58   2607.jpg  \n",
       "4  2025-01-22 09:50:46   1246.jpg  "
      ]
     },
     "execution_count": 3,
     "metadata": {},
     "output_type": "execute_result"
    }
   ],
   "source": [
    "df_raw = extract_data(scraped_file)\n",
    "df_raw.head()"
   ]
  },
  {
   "cell_type": "code",
   "execution_count": 4,
   "metadata": {},
   "outputs": [
    {
     "name": "stdout",
     "output_type": "stream",
     "text": [
      "✅ Data transformation complete.\n"
     ]
    },
    {
     "data": {
      "text/html": [
       "<div>\n",
       "<style scoped>\n",
       "    .dataframe tbody tr th:only-of-type {\n",
       "        vertical-align: middle;\n",
       "    }\n",
       "\n",
       "    .dataframe tbody tr th {\n",
       "        vertical-align: top;\n",
       "    }\n",
       "\n",
       "    .dataframe thead th {\n",
       "        text-align: right;\n",
       "    }\n",
       "</style>\n",
       "<table border=\"1\" class=\"dataframe\">\n",
       "  <thead>\n",
       "    <tr style=\"text-align: right;\">\n",
       "      <th></th>\n",
       "      <th>id</th>\n",
       "      <th>text</th>\n",
       "      <th>youtube_links</th>\n",
       "      <th>channel</th>\n",
       "      <th>date</th>\n",
       "      <th>image_path</th>\n",
       "      <th>contains_emoji</th>\n",
       "      <th>has_youtube_link</th>\n",
       "    </tr>\n",
       "  </thead>\n",
       "  <tbody>\n",
       "    <tr>\n",
       "      <th>0</th>\n",
       "      <td>15208</td>\n",
       "      <td>NEUROPRO CARE \\nPrice 5500 birr \\nTelegram @Lo...</td>\n",
       "      <td>[]</td>\n",
       "      <td>lobelia4cosmetics</td>\n",
       "      <td>2025-01-31 12:40:44</td>\n",
       "      <td>15208.jpg</td>\n",
       "      <td>NaN</td>\n",
       "      <td>False</td>\n",
       "    </tr>\n",
       "    <tr>\n",
       "      <th>1</th>\n",
       "      <td>864</td>\n",
       "      <td>https://youtu.be/5DBoEm-8kmA?si=LDLuEecNfULJVD...</td>\n",
       "      <td>[('https://', '', 'youtu.be'), ('https://', ''...</td>\n",
       "      <td>DoctorsET</td>\n",
       "      <td>2023-12-18 17:04:02</td>\n",
       "      <td>864.jpg</td>\n",
       "      <td>NaN</td>\n",
       "      <td>False</td>\n",
       "    </tr>\n",
       "    <tr>\n",
       "      <th>2</th>\n",
       "      <td>1247</td>\n",
       "      <td>no text</td>\n",
       "      <td>[]</td>\n",
       "      <td>yetenaweg</td>\n",
       "      <td>2025-01-22 09:50:47</td>\n",
       "      <td>1247.jpg</td>\n",
       "      <td>NaN</td>\n",
       "      <td>False</td>\n",
       "    </tr>\n",
       "    <tr>\n",
       "      <th>3</th>\n",
       "      <td>2607</td>\n",
       "      <td>#**Adult_ECHO_Training****@****#ADISS_ABABA_By...</td>\n",
       "      <td>[]</td>\n",
       "      <td>EAHCI</td>\n",
       "      <td>2025-01-31 13:45:58</td>\n",
       "      <td>2607.jpg</td>\n",
       "      <td>NaN</td>\n",
       "      <td>False</td>\n",
       "    </tr>\n",
       "    <tr>\n",
       "      <th>4</th>\n",
       "      <td>1246</td>\n",
       "      <td>no text</td>\n",
       "      <td>[]</td>\n",
       "      <td>yetenaweg</td>\n",
       "      <td>2025-01-22 09:50:46</td>\n",
       "      <td>1246.jpg</td>\n",
       "      <td>NaN</td>\n",
       "      <td>False</td>\n",
       "    </tr>\n",
       "  </tbody>\n",
       "</table>\n",
       "</div>"
      ],
      "text/plain": [
       "      id                                               text  \\\n",
       "0  15208  NEUROPRO CARE \\nPrice 5500 birr \\nTelegram @Lo...   \n",
       "1    864  https://youtu.be/5DBoEm-8kmA?si=LDLuEecNfULJVD...   \n",
       "2   1247                                            no text   \n",
       "3   2607  #**Adult_ECHO_Training****@****#ADISS_ABABA_By...   \n",
       "4   1246                                            no text   \n",
       "\n",
       "                                       youtube_links            channel  \\\n",
       "0                                                 []  lobelia4cosmetics   \n",
       "1  [('https://', '', 'youtu.be'), ('https://', ''...          DoctorsET   \n",
       "2                                                 []          yetenaweg   \n",
       "3                                                 []              EAHCI   \n",
       "4                                                 []          yetenaweg   \n",
       "\n",
       "                 date image_path contains_emoji  has_youtube_link  \n",
       "0 2025-01-31 12:40:44  15208.jpg            NaN             False  \n",
       "1 2023-12-18 17:04:02    864.jpg            NaN             False  \n",
       "2 2025-01-22 09:50:47   1247.jpg            NaN             False  \n",
       "3 2025-01-31 13:45:58   2607.jpg            NaN             False  \n",
       "4 2025-01-22 09:50:46   1246.jpg            NaN             False  "
      ]
     },
     "execution_count": 4,
     "metadata": {},
     "output_type": "execute_result"
    }
   ],
   "source": [
    "df_cleaned = transform_data(df_raw)\n",
    "df_cleaned.head()"
   ]
  },
  {
   "cell_type": "code",
   "execution_count": 5,
   "metadata": {},
   "outputs": [
    {
     "name": "stdout",
     "output_type": "stream",
     "text": [
      "✅ Cleaned data saved to 'E:\\DS+ML\\AIM3\\Week-7\\Week-7.Ethiopian-medical-business-Data-Warehouse\\data\\cleaned_data.csv'.\n"
     ]
    }
   ],
   "source": [
    "save_cleaned_data(df_cleaned, cleaned_file)"
   ]
  },
  {
   "cell_type": "code",
   "execution_count": 6,
   "metadata": {},
   "outputs": [
    {
     "name": "stdout",
     "output_type": "stream",
     "text": [
      "✅ Database 'Ethio_Medical_Database' created successfully.\n",
      "✅ Connected to database 'Ethio_Medical_Database'.\n",
      "✅ Table 'medical_database' created successfully.\n"
     ]
    }
   ],
   "source": [
    "create_table()"
   ]
  },
  {
   "cell_type": "code",
   "execution_count": 7,
   "metadata": {},
   "outputs": [
    {
     "name": "stdout",
     "output_type": "stream",
     "text": [
      "✅ Data successfully loaded into 'medical_database' in 'Ethio_Medical_Database'.\n"
     ]
    }
   ],
   "source": [
    "load_to_postgresql(cleaned_file)"
   ]
  }
 ],
 "metadata": {
  "kernelspec": {
   "display_name": "Python 3",
   "language": "python",
   "name": "python3"
  },
  "language_info": {
   "codemirror_mode": {
    "name": "ipython",
    "version": 3
   },
   "file_extension": ".py",
   "mimetype": "text/x-python",
   "name": "python",
   "nbconvert_exporter": "python",
   "pygments_lexer": "ipython3",
   "version": "3.12.8"
  }
 },
 "nbformat": 4,
 "nbformat_minor": 2
}
